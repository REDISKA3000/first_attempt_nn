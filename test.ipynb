{
 "cells": [
  {
   "cell_type": "code",
   "execution_count": 141,
   "metadata": {
    "collapsed": true
   },
   "outputs": [],
   "source": [
    "import pandas as pd\n",
    "import numpy as np\n",
    "import matplotlib.pyplot as plt\n",
    "import sklearn.model_selection\n",
    "import sklearn\n",
    "from tensorflow import keras as ks"
   ]
  },
  {
   "cell_type": "code",
   "execution_count": 142,
   "outputs": [],
   "source": [
    "c = np.array([-40,10,0,8,15,22,38]) #fcqdqdqwf\n",
    "f = np.array([-40,14,32,46,59,72,100])"
   ],
   "metadata": {
    "collapsed": false
   }
  },
  {
   "cell_type": "code",
   "execution_count": 143,
   "outputs": [],
   "source": [
    "model = ks.Sequential()\n",
    "model.add(ks.layers.Dense(units = 1,input_shape = (1,), activation = 'linear'))\n",
    "model.compile(loss = 'mean_squared_error', optimizer = ks.optimizers.Adam(0.1))"
   ],
   "metadata": {
    "collapsed": false
   }
  },
  {
   "cell_type": "code",
   "execution_count": 144,
   "outputs": [],
   "source": [
    "his = model.fit(c, f, epochs=500,verbose=0)"
   ],
   "metadata": {
    "collapsed": false
   }
  },
  {
   "cell_type": "code",
   "execution_count": 145,
   "outputs": [
    {
     "data": {
      "text/plain": "<Figure size 640x480 with 1 Axes>",
      "image/png": "[encoded data removed]"
     },
     "metadata": {},
     "output_type": "display_data"
    }
   ],
   "source": [
    "plt.plot(his.history['loss'])\n",
    "plt.grid(True)\n",
    "plt.show()"
   ],
   "metadata": {
    "collapsed": false
   }
  },
  {
   "cell_type": "code",
   "execution_count": 146,
   "outputs": [
    {
     "name": "stdout",
     "output_type": "stream",
     "text": [
      "1/1 [==============================] - 0s 104ms/step\n"
     ]
    },
    {
     "data": {
      "text/plain": "array([[204.87375]], dtype=float32)"
     },
     "execution_count": 146,
     "metadata": {},
     "output_type": "execute_result"
    }
   ],
   "source": [
    "model.predict([100])"
   ],
   "metadata": {
    "collapsed": false
   }
  },
  {
   "cell_type": "code",
   "execution_count": 147,
   "outputs": [
    {
     "data": {
      "text/plain": "[array([[1.7932658]], dtype=float32), array([25.547157], dtype=float32)]"
     },
     "execution_count": 147,
     "metadata": {},
     "output_type": "execute_result"
    }
   ],
   "source": [
    "model.get_weights()"
   ],
   "metadata": {
    "collapsed": false
   }
  },
  {
   "cell_type": "code",
   "execution_count": 147,
   "outputs": [],
   "source": [],
   "metadata": {
    "collapsed": false
   }
  },
  {
   "cell_type": "code",
   "execution_count": 148,
   "outputs": [],
   "source": [
    "from tensorflow.keras.datasets import  fashion_mnist\n",
    "from tensorflow.keras import utils\n",
    "from tensorflow.keras import Sequential\n",
    "from tensorflow.keras.layers import Dense\n",
    "from sklearn.metrics import  accuracy_score\n",
    "import matplotlib.pyplot as plt"
   ],
   "metadata": {
    "collapsed": false
   }
  },
  {
   "cell_type": "code",
   "execution_count": 149,
   "outputs": [],
   "source": [
    "(x_train, y_train), (x_test, y_test) = fashion_mnist.load_data()"
   ],
   "metadata": {
    "collapsed": false
   }
  },
  {
   "cell_type": "code",
   "execution_count": 150,
   "outputs": [],
   "source": [
    "x_train = x_train.reshape(60000,784)\n",
    "x_train = x_train / 255"
   ],
   "metadata": {
    "collapsed": false
   }
  },
  {
   "cell_type": "code",
   "execution_count": 151,
   "outputs": [],
   "source": [
    "y_train = utils.to_categorical(y_train,10)"
   ],
   "metadata": {
    "collapsed": false
   }
  },
  {
   "cell_type": "code",
   "execution_count": 152,
   "outputs": [],
   "source": [
    "x_test = x_test.reshape(10000,784)\n",
    "x_test = x_test / 255"
   ],
   "metadata": {
    "collapsed": false
   }
  },
  {
   "cell_type": "code",
   "execution_count": 153,
   "outputs": [],
   "source": [
    "y_test = utils.to_categorical(y_test,10)"
   ],
   "metadata": {
    "collapsed": false
   }
  },
  {
   "cell_type": "code",
   "execution_count": 154,
   "outputs": [],
   "source": [
    "model = Sequential()\n",
    "\n",
    "model.add(Dense(800,input_dim = 784, activation = 'relu'))\n",
    "model.add(Dense(600,input_dim = 784, activation = 'relu'))\n",
    "model.add(Dense(400,input_dim = 784, activation = 'relu'))\n",
    "model.add(Dense(10, activation = 'softmax'))"
   ],
   "metadata": {
    "collapsed": false
   }
  },
  {
   "cell_type": "code",
   "execution_count": 155,
   "outputs": [],
   "source": [
    "model.compile(loss = 'categorical_crossentropy', optimizer='adam',\n",
    "              metrics = ['accuracy'])"
   ],
   "metadata": {
    "collapsed": false
   }
  },
  {
   "cell_type": "code",
   "execution_count": 156,
   "outputs": [
    {
     "name": "stdout",
     "output_type": "stream",
     "text": [
      "Epoch 1/50\n",
      "240/240 [==============================] - 5s 16ms/step - loss: 0.5103 - accuracy: 0.8160 - val_loss: 0.3877 - val_accuracy: 0.8586\n",
      "Epoch 2/50\n",
      "240/240 [==============================] - 4s 15ms/step - loss: 0.3554 - accuracy: 0.8687 - val_loss: 0.3620 - val_accuracy: 0.8673\n",
      "Epoch 3/50\n",
      "240/240 [==============================] - 3s 14ms/step - loss: 0.3173 - accuracy: 0.8821 - val_loss: 0.3574 - val_accuracy: 0.8732\n",
      "Epoch 4/50\n",
      "240/240 [==============================] - 3s 14ms/step - loss: 0.2988 - accuracy: 0.8892 - val_loss: 0.3495 - val_accuracy: 0.8705\n",
      "Epoch 5/50\n",
      "240/240 [==============================] - 4s 16ms/step - loss: 0.2783 - accuracy: 0.8961 - val_loss: 0.3526 - val_accuracy: 0.8717\n",
      "Epoch 6/50\n",
      "240/240 [==============================] - 4s 17ms/step - loss: 0.2634 - accuracy: 0.9006 - val_loss: 0.3090 - val_accuracy: 0.8909\n",
      "Epoch 7/50\n",
      "240/240 [==============================] - 4s 16ms/step - loss: 0.2474 - accuracy: 0.9074 - val_loss: 0.3158 - val_accuracy: 0.8885\n",
      "Epoch 8/50\n",
      "240/240 [==============================] - 3s 14ms/step - loss: 0.2348 - accuracy: 0.9116 - val_loss: 0.3316 - val_accuracy: 0.8849\n",
      "Epoch 9/50\n",
      "240/240 [==============================] - 3s 14ms/step - loss: 0.2259 - accuracy: 0.9141 - val_loss: 0.3194 - val_accuracy: 0.8878\n",
      "Epoch 10/50\n",
      "240/240 [==============================] - 4s 16ms/step - loss: 0.2143 - accuracy: 0.9192 - val_loss: 0.3214 - val_accuracy: 0.8910\n",
      "Epoch 11/50\n",
      "240/240 [==============================] - 3s 14ms/step - loss: 0.2044 - accuracy: 0.9228 - val_loss: 0.3195 - val_accuracy: 0.8904\n",
      "Epoch 12/50\n",
      "240/240 [==============================] - 6s 26ms/step - loss: 0.1985 - accuracy: 0.9252 - val_loss: 0.3521 - val_accuracy: 0.8867\n",
      "Epoch 13/50\n",
      "240/240 [==============================] - 7s 28ms/step - loss: 0.1946 - accuracy: 0.9252 - val_loss: 0.3423 - val_accuracy: 0.8906\n",
      "Epoch 14/50\n",
      "240/240 [==============================] - 5s 23ms/step - loss: 0.1838 - accuracy: 0.9301 - val_loss: 0.3237 - val_accuracy: 0.8937\n",
      "Epoch 15/50\n",
      "240/240 [==============================] - 5s 21ms/step - loss: 0.1749 - accuracy: 0.9333 - val_loss: 0.3661 - val_accuracy: 0.8832\n",
      "Epoch 16/50\n",
      "240/240 [==============================] - 5s 20ms/step - loss: 0.1684 - accuracy: 0.9349 - val_loss: 0.3176 - val_accuracy: 0.8986\n",
      "Epoch 17/50\n",
      "240/240 [==============================] - 5s 21ms/step - loss: 0.1616 - accuracy: 0.9377 - val_loss: 0.3541 - val_accuracy: 0.8945\n",
      "Epoch 18/50\n",
      "240/240 [==============================] - 5s 21ms/step - loss: 0.1554 - accuracy: 0.9397 - val_loss: 0.3611 - val_accuracy: 0.8942\n",
      "Epoch 19/50\n",
      "240/240 [==============================] - 5s 22ms/step - loss: 0.1504 - accuracy: 0.9416 - val_loss: 0.3314 - val_accuracy: 0.8971\n",
      "Epoch 20/50\n",
      "240/240 [==============================] - 5s 21ms/step - loss: 0.1420 - accuracy: 0.9447 - val_loss: 0.3556 - val_accuracy: 0.8942\n",
      "Epoch 21/50\n",
      "240/240 [==============================] - 5s 20ms/step - loss: 0.1423 - accuracy: 0.9451 - val_loss: 0.3779 - val_accuracy: 0.8947\n",
      "Epoch 22/50\n",
      "240/240 [==============================] - 5s 22ms/step - loss: 0.1351 - accuracy: 0.9485 - val_loss: 0.3789 - val_accuracy: 0.8889\n",
      "Epoch 23/50\n",
      "240/240 [==============================] - 5s 20ms/step - loss: 0.1269 - accuracy: 0.9511 - val_loss: 0.3832 - val_accuracy: 0.8973\n",
      "Epoch 24/50\n",
      "240/240 [==============================] - 5s 21ms/step - loss: 0.1204 - accuracy: 0.9529 - val_loss: 0.3879 - val_accuracy: 0.8914\n",
      "Epoch 25/50\n",
      "240/240 [==============================] - 5s 21ms/step - loss: 0.1202 - accuracy: 0.9535 - val_loss: 0.4006 - val_accuracy: 0.8992\n",
      "Epoch 26/50\n",
      "240/240 [==============================] - 5s 20ms/step - loss: 0.1118 - accuracy: 0.9564 - val_loss: 0.4269 - val_accuracy: 0.8975\n",
      "Epoch 27/50\n",
      "240/240 [==============================] - 4s 19ms/step - loss: 0.1060 - accuracy: 0.9585 - val_loss: 0.4325 - val_accuracy: 0.8943\n",
      "Epoch 28/50\n",
      "240/240 [==============================] - 5s 19ms/step - loss: 0.1067 - accuracy: 0.9586 - val_loss: 0.4536 - val_accuracy: 0.8963\n",
      "Epoch 29/50\n",
      "240/240 [==============================] - 5s 21ms/step - loss: 0.1011 - accuracy: 0.9613 - val_loss: 0.4066 - val_accuracy: 0.8958\n",
      "Epoch 30/50\n",
      "240/240 [==============================] - 5s 20ms/step - loss: 0.0950 - accuracy: 0.9628 - val_loss: 0.4431 - val_accuracy: 0.8955\n",
      "Epoch 31/50\n",
      "240/240 [==============================] - 5s 19ms/step - loss: 0.0931 - accuracy: 0.9639 - val_loss: 0.4289 - val_accuracy: 0.8994\n",
      "Epoch 32/50\n",
      "240/240 [==============================] - 5s 19ms/step - loss: 0.0859 - accuracy: 0.9661 - val_loss: 0.5130 - val_accuracy: 0.8972\n",
      "Epoch 33/50\n",
      "240/240 [==============================] - 5s 20ms/step - loss: 0.0888 - accuracy: 0.9665 - val_loss: 0.4466 - val_accuracy: 0.8989\n",
      "Epoch 34/50\n",
      "240/240 [==============================] - 5s 19ms/step - loss: 0.0865 - accuracy: 0.9662 - val_loss: 0.4569 - val_accuracy: 0.9011\n",
      "Epoch 35/50\n",
      "240/240 [==============================] - 5s 19ms/step - loss: 0.0774 - accuracy: 0.9693 - val_loss: 0.4825 - val_accuracy: 0.8963\n",
      "Epoch 36/50\n",
      "240/240 [==============================] - 5s 19ms/step - loss: 0.0790 - accuracy: 0.9698 - val_loss: 0.4904 - val_accuracy: 0.8988\n",
      "Epoch 37/50\n",
      "240/240 [==============================] - 5s 20ms/step - loss: 0.0771 - accuracy: 0.9703 - val_loss: 0.4806 - val_accuracy: 0.8992\n",
      "Epoch 38/50\n",
      "240/240 [==============================] - 5s 20ms/step - loss: 0.0769 - accuracy: 0.9710 - val_loss: 0.4982 - val_accuracy: 0.8992\n",
      "Epoch 39/50\n",
      "240/240 [==============================] - 5s 21ms/step - loss: 0.0686 - accuracy: 0.9736 - val_loss: 0.5008 - val_accuracy: 0.8928\n",
      "Epoch 40/50\n",
      "240/240 [==============================] - 5s 21ms/step - loss: 0.0643 - accuracy: 0.9751 - val_loss: 0.5351 - val_accuracy: 0.8986\n",
      "Epoch 41/50\n",
      "240/240 [==============================] - 5s 22ms/step - loss: 0.0679 - accuracy: 0.9738 - val_loss: 0.4929 - val_accuracy: 0.8957\n",
      "Epoch 42/50\n",
      "240/240 [==============================] - 6s 24ms/step - loss: 0.0627 - accuracy: 0.9756 - val_loss: 0.4952 - val_accuracy: 0.8997\n",
      "Epoch 43/50\n",
      "240/240 [==============================] - 6s 25ms/step - loss: 0.0601 - accuracy: 0.9769 - val_loss: 0.4827 - val_accuracy: 0.9003\n",
      "Epoch 44/50\n",
      "240/240 [==============================] - 6s 25ms/step - loss: 0.0565 - accuracy: 0.9780 - val_loss: 0.5258 - val_accuracy: 0.8997\n",
      "Epoch 45/50\n",
      "240/240 [==============================] - 8s 32ms/step - loss: 0.0584 - accuracy: 0.9769 - val_loss: 0.5251 - val_accuracy: 0.8969\n",
      "Epoch 46/50\n",
      "240/240 [==============================] - 9s 36ms/step - loss: 0.0561 - accuracy: 0.9786 - val_loss: 0.5550 - val_accuracy: 0.8972\n",
      "Epoch 47/50\n",
      "240/240 [==============================] - 7s 29ms/step - loss: 0.0482 - accuracy: 0.9813 - val_loss: 0.6186 - val_accuracy: 0.9030\n",
      "Epoch 48/50\n",
      "240/240 [==============================] - 5s 22ms/step - loss: 0.0541 - accuracy: 0.9795 - val_loss: 0.5775 - val_accuracy: 0.8996\n",
      "Epoch 49/50\n",
      "240/240 [==============================] - 6s 24ms/step - loss: 0.0533 - accuracy: 0.9803 - val_loss: 0.6028 - val_accuracy: 0.8952\n",
      "Epoch 50/50\n",
      "240/240 [==============================] - 5s 21ms/step - loss: 0.0553 - accuracy: 0.9787 - val_loss: 0.5783 - val_accuracy: 0.8958\n"
     ]
    }
   ],
   "source": [
    "history = model.fit(x_train, y_train, batch_size=200,\n",
    "          epochs=50, validation_split = 0.2, verbose=1)"
   ],
   "metadata": {
    "collapsed": false
   }
  },
  {
   "cell_type": "code",
   "execution_count": 157,
   "outputs": [
    {
     "data": {
      "text/plain": "[<matplotlib.lines.Line2D at 0x2c560adb0a0>]"
     },
     "execution_count": 157,
     "metadata": {},
     "output_type": "execute_result"
    },
    {
     "data": {
      "text/plain": "<Figure size 640x480 with 1 Axes>",
      "image/png": "[encoded data removed]"
     },
     "metadata": {},
     "output_type": "display_data"
    }
   ],
   "source": [
    "plt.plot(history.history['accuracy'])\n",
    "plt.plot(history.history['val_accuracy'])"
   ],
   "metadata": {
    "collapsed": false
   }
  },
  {
   "cell_type": "code",
   "execution_count": 158,
   "outputs": [],
   "source": [
    "model.save('fashion_mnist_dense.h5')"
   ],
   "metadata": {
    "collapsed": false
   }
  },
  {
   "cell_type": "code",
   "execution_count": 159,
   "outputs": [
    {
     "name": "stdout",
     "output_type": "stream",
     "text": [
      "1875/1875 [==============================] - 5s 3ms/step\n"
     ]
    },
    {
     "data": {
      "text/plain": "array([[1.4963379e-11, 1.2827274e-08, 8.4406029e-09, ..., 6.4563639e-03,\n        1.4798780e-08, 9.9354339e-01],\n       [1.0000000e+00, 1.7905328e-20, 5.7540028e-10, ..., 6.8987752e-21,\n        1.8275746e-14, 8.1850052e-20],\n       [9.8115206e-01, 7.7146524e-07, 1.4263347e-06, ..., 1.9739133e-10,\n        5.3985072e-08, 1.1188677e-09],\n       ...,\n       [1.9383404e-20, 8.3990162e-19, 2.2265099e-09, ..., 7.9224613e-23,\n        1.7838370e-21, 2.7186518e-25],\n       [9.9999058e-01, 4.0751454e-13, 9.4008565e-06, ..., 4.1196675e-17,\n        1.4884171e-14, 1.7729220e-17],\n       [3.9375588e-35, 2.1041138e-34, 1.8323203e-30, ..., 5.6477522e-24,\n        5.9173560e-29, 1.5847881e-27]], dtype=float32)"
     },
     "execution_count": 159,
     "metadata": {},
     "output_type": "execute_result"
    }
   ],
   "source": [
    "model.predict(x_train)"
   ],
   "metadata": {
    "collapsed": false
   }
  },
  {
   "cell_type": "code",
   "execution_count": 160,
   "outputs": [
    {
     "name": "stdout",
     "output_type": "stream",
     "text": [
      "313/313 [==============================] - 1s 3ms/step - loss: 0.6563 - accuracy: 0.8881\n"
     ]
    }
   ],
   "source": [
    "scores = model.evaluate(x_test,y_test, verbose=1)"
   ],
   "metadata": {
    "collapsed": false
   }
  },
  {
   "cell_type": "code",
   "execution_count": 161,
   "outputs": [
    {
     "data": {
      "text/plain": "88.81"
     },
     "execution_count": 161,
     "metadata": {},
     "output_type": "execute_result"
    }
   ],
   "source": [
    "round(scores[1]*100,4)"
   ],
   "metadata": {
    "collapsed": false
   }
  },
  {
   "cell_type": "code",
   "execution_count": 162,
   "outputs": [],
   "source": [
    "n_rec = 500"
   ],
   "metadata": {
    "collapsed": false
   }
  },
  {
   "cell_type": "code",
   "execution_count": 163,
   "outputs": [
    {
     "data": {
      "text/plain": "<Figure size 640x480 with 1 Axes>",
      "image/png": "[encoded data removed]"
     },
     "metadata": {},
     "output_type": "display_data"
    }
   ],
   "source": [
    "plt.imshow(x_test[n_rec].reshape(28,28), cmap = plt.cm.binary)\n",
    "plt.show()"
   ],
   "metadata": {
    "collapsed": false
   }
  },
  {
   "cell_type": "code",
   "execution_count": 164,
   "outputs": [],
   "source": [
    "x = x_test[497]\n",
    "x = np.expand_dims(x, axis = 0)"
   ],
   "metadata": {
    "collapsed": false
   }
  },
  {
   "cell_type": "code",
   "execution_count": 165,
   "outputs": [
    {
     "name": "stdout",
     "output_type": "stream",
     "text": [
      "1/1 [==============================] - 0s 70ms/step\n"
     ]
    }
   ],
   "source": [
    "pred = model.predict(x)"
   ],
   "metadata": {
    "collapsed": false
   }
  },
  {
   "cell_type": "code",
   "execution_count": 166,
   "outputs": [
    {
     "data": {
      "text/plain": "2"
     },
     "execution_count": 166,
     "metadata": {},
     "output_type": "execute_result"
    }
   ],
   "source": [
    "pred = np.argmax(pred[0])\n",
    "pred"
   ],
   "metadata": {
    "collapsed": false
   }
  },
  {
   "cell_type": "code",
   "execution_count": null,
   "outputs": [],
   "source": [],
   "metadata": {
    "collapsed": false
   }
  },
  {
   "cell_type": "code",
   "execution_count": null,
   "outputs": [],
   "source": [
    "# identifying images, split in 10 classes"
   ],
   "metadata": {
    "collapsed": false
   }
  },
  {
   "cell_type": "code",
   "execution_count": null,
   "outputs": [],
   "source": [
    "from sklearn.datasets import _california_housing"
   ],
   "metadata": {
    "collapsed": false
   }
  },
  {
   "cell_type": "code",
   "execution_count": null,
   "outputs": [],
   "source": [
    "data = _california_housing.fetch_california_housing()\n",
    "df = pd.DataFrame(data= data.data, columns=data.feature_names)"
   ],
   "metadata": {
    "collapsed": false
   }
  },
  {
   "cell_type": "code",
   "execution_count": 132,
   "outputs": [
    {
     "data": {
      "text/plain": "       MedInc  HouseAge  AveRooms  AveBedrms  Population  AveOccup  Latitude  \\\n0      8.3252      41.0  6.984127   1.023810       322.0  2.555556     37.88   \n1      8.3014      21.0  6.238137   0.971880      2401.0  2.109842     37.86   \n2      7.2574      52.0  8.288136   1.073446       496.0  2.802260     37.85   \n3      5.6431      52.0  5.817352   1.073059       558.0  2.547945     37.85   \n4      3.8462      52.0  6.281853   1.081081       565.0  2.181467     37.85   \n...       ...       ...       ...        ...         ...       ...       ...   \n20635  1.5603      25.0  5.045455   1.133333       845.0  2.560606     39.48   \n20636  2.5568      18.0  6.114035   1.315789       356.0  3.122807     39.49   \n20637  1.7000      17.0  5.205543   1.120092      1007.0  2.325635     39.43   \n20638  1.8672      18.0  5.329513   1.171920       741.0  2.123209     39.43   \n20639  2.3886      16.0  5.254717   1.162264      1387.0  2.616981     39.37   \n\n       Longitude  \n0        -122.23  \n1        -122.22  \n2        -122.24  \n3        -122.25  \n4        -122.25  \n...          ...  \n20635    -121.09  \n20636    -121.21  \n20637    -121.22  \n20638    -121.32  \n20639    -121.24  \n\n[20640 rows x 8 columns]",
      "text/html": "<div>\n<style scoped>\n    .dataframe tbody tr th:only-of-type {\n        vertical-align: middle;\n    }\n\n    .dataframe tbody tr th {\n        vertical-align: top;\n    }\n\n    .dataframe thead th {\n        text-align: right;\n    }\n</style>\n<table border=\"1\" class=\"dataframe\">\n  <thead>\n    <tr style=\"text-align: right;\">\n      <th></th>\n      <th>MedInc</th>\n      <th>HouseAge</th>\n      <th>AveRooms</th>\n      <th>AveBedrms</th>\n      <th>Population</th>\n      <th>AveOccup</th>\n      <th>Latitude</th>\n      <th>Longitude</th>\n    </tr>\n  </thead>\n  <tbody>\n    <tr>\n      <th>0</th>\n      <td>8.3252</td>\n      <td>41.0</td>\n      <td>6.984127</td>\n      <td>1.023810</td>\n      <td>322.0</td>\n      <td>2.555556</td>\n      <td>37.88</td>\n      <td>-122.23</td>\n    </tr>\n    <tr>\n      <th>1</th>\n      <td>8.3014</td>\n      <td>21.0</td>\n      <td>6.238137</td>\n      <td>0.971880</td>\n      <td>2401.0</td>\n      <td>2.109842</td>\n      <td>37.86</td>\n      <td>-122.22</td>\n    </tr>\n    <tr>\n      <th>2</th>\n      <td>7.2574</td>\n      <td>52.0</td>\n      <td>8.288136</td>\n      <td>1.073446</td>\n      <td>496.0</td>\n      <td>2.802260</td>\n      <td>37.85</td>\n      <td>-122.24</td>\n    </tr>\n    <tr>\n      <th>3</th>\n      <td>5.6431</td>\n      <td>52.0</td>\n      <td>5.817352</td>\n      <td>1.073059</td>\n      <td>558.0</td>\n      <td>2.547945</td>\n      <td>37.85</td>\n      <td>-122.25</td>\n    </tr>\n    <tr>\n      <th>4</th>\n      <td>3.8462</td>\n      <td>52.0</td>\n      <td>6.281853</td>\n      <td>1.081081</td>\n      <td>565.0</td>\n      <td>2.181467</td>\n      <td>37.85</td>\n      <td>-122.25</td>\n    </tr>\n    <tr>\n      <th>...</th>\n      <td>...</td>\n      <td>...</td>\n      <td>...</td>\n      <td>...</td>\n      <td>...</td>\n      <td>...</td>\n      <td>...</td>\n      <td>...</td>\n    </tr>\n    <tr>\n      <th>20635</th>\n      <td>1.5603</td>\n      <td>25.0</td>\n      <td>5.045455</td>\n      <td>1.133333</td>\n      <td>845.0</td>\n      <td>2.560606</td>\n      <td>39.48</td>\n      <td>-121.09</td>\n    </tr>\n    <tr>\n      <th>20636</th>\n      <td>2.5568</td>\n      <td>18.0</td>\n      <td>6.114035</td>\n      <td>1.315789</td>\n      <td>356.0</td>\n      <td>3.122807</td>\n      <td>39.49</td>\n      <td>-121.21</td>\n    </tr>\n    <tr>\n      <th>20637</th>\n      <td>1.7000</td>\n      <td>17.0</td>\n      <td>5.205543</td>\n      <td>1.120092</td>\n      <td>1007.0</td>\n      <td>2.325635</td>\n      <td>39.43</td>\n      <td>-121.22</td>\n    </tr>\n    <tr>\n      <th>20638</th>\n      <td>1.8672</td>\n      <td>18.0</td>\n      <td>5.329513</td>\n      <td>1.171920</td>\n      <td>741.0</td>\n      <td>2.123209</td>\n      <td>39.43</td>\n      <td>-121.32</td>\n    </tr>\n    <tr>\n      <th>20639</th>\n      <td>2.3886</td>\n      <td>16.0</td>\n      <td>5.254717</td>\n      <td>1.162264</td>\n      <td>1387.0</td>\n      <td>2.616981</td>\n      <td>39.37</td>\n      <td>-121.24</td>\n    </tr>\n  </tbody>\n</table>\n<p>20640 rows × 8 columns</p>\n</div>"
     },
     "execution_count": 132,
     "metadata": {},
     "output_type": "execute_result"
    }
   ],
   "source": [
    "df"
   ],
   "metadata": {
    "collapsed": false
   }
  },
  {
   "cell_type": "code",
   "execution_count": 139,
   "outputs": [],
   "source": [
    "x_train,x_test,y_train,y_test = sklearn.model_selection.train_test_split(df, data.target,                                                                               test_size=0.25)"
   ],
   "metadata": {
    "collapsed": false
   }
  },
  {
   "cell_type": "code",
   "execution_count": 184,
   "outputs": [],
   "source": [
    "model = Sequential()\n",
    "model.add(Dense(64, activation = 'relu', input_shape = (x_train.shape[1],)))\n",
    "model.add(Dense(32, activation = 'relu'))\n",
    "model.add(Dense(1, activation = 'relu'))"
   ],
   "metadata": {
    "collapsed": false
   }
  },
  {
   "cell_type": "code",
   "execution_count": 185,
   "outputs": [
    {
     "name": "stdout",
     "output_type": "stream",
     "text": [
      "Model: \"sequential_11\"\n",
      "_________________________________________________________________\n",
      " Layer (type)                Output Shape              Param #   \n",
      "=================================================================\n",
      " dense_34 (Dense)            (None, 64)                50240     \n",
      "                                                                 \n",
      " dense_35 (Dense)            (None, 32)                2080      \n",
      "                                                                 \n",
      " dense_36 (Dense)            (None, 1)                 33        \n",
      "                                                                 \n",
      "=================================================================\n",
      "Total params: 52,353\n",
      "Trainable params: 52,353\n",
      "Non-trainable params: 0\n",
      "_________________________________________________________________\n"
     ]
    }
   ],
   "source": [
    "model.summary()"
   ],
   "metadata": {
    "collapsed": false
   }
  },
  {
   "cell_type": "code",
   "execution_count": 186,
   "outputs": [],
   "source": [
    "model.compile(loss='mse',optimizer='adam', metrics=['mse'])"
   ],
   "metadata": {
    "collapsed": false
   }
  },
  {
   "cell_type": "code",
   "execution_count": 187,
   "outputs": [
    {
     "name": "stdout",
     "output_type": "stream",
     "text": [
      "1688/1688 - 2s - loss: 0.0900 - mse: 0.0900 - val_loss: 0.0900 - val_mse: 0.0900 - 2s/epoch - 1ms/step\n",
      "Epoch 25/100\n",
      "1688/1688 - 2s - loss: 0.0900 - mse: 0.0900 - val_loss: 0.0900 - val_mse: 0.0900 - 2s/epoch - 1ms/step\n",
      "Epoch 26/100\n",
      "1688/1688 - 2s - loss: 0.0900 - mse: 0.0900 - val_loss: 0.0900 - val_mse: 0.0900 - 2s/epoch - 1ms/step\n",
      "Epoch 27/100\n",
      "1688/1688 - 2s - loss: 0.0900 - mse: 0.0900 - val_loss: 0.0900 - val_mse: 0.0900 - 2s/epoch - 1ms/step\n",
      "Epoch 28/100\n",
      "1688/1688 - 3s - loss: 0.0900 - mse: 0.0900 - val_loss: 0.0900 - val_mse: 0.0900 - 3s/epoch - 2ms/step\n",
      "Epoch 29/100\n",
      "1688/1688 - 2s - loss: 0.0900 - mse: 0.0900 - val_loss: 0.0900 - val_mse: 0.0900 - 2s/epoch - 1ms/step\n",
      "Epoch 30/100\n",
      "1688/1688 - 2s - loss: 0.0900 - mse: 0.0900 - val_loss: 0.0900 - val_mse: 0.0900 - 2s/epoch - 1ms/step\n",
      "Epoch 31/100\n",
      "1688/1688 - 2s - loss: 0.0900 - mse: 0.0900 - val_loss: 0.0900 - val_mse: 0.0900 - 2s/epoch - 1ms/step\n",
      "Epoch 32/100\n",
      "1688/1688 - 2s - loss: 0.0900 - mse: 0.0900 - val_loss: 0.0900 - val_mse: 0.0900 - 2s/epoch - 1ms/step\n",
      "Epoch 33/100\n",
      "1688/1688 - 2s - loss: 0.0900 - mse: 0.0900 - val_loss: 0.0900 - val_mse: 0.0900 - 2s/epoch - 1ms/step\n",
      "Epoch 34/100\n",
      "1688/1688 - 2s - loss: 0.0900 - mse: 0.0900 - val_loss: 0.0900 - val_mse: 0.0900 - 2s/epoch - 1ms/step\n",
      "Epoch 35/100\n",
      "1688/1688 - 2s - loss: 0.0900 - mse: 0.0900 - val_loss: 0.0900 - val_mse: 0.0900 - 2s/epoch - 1ms/step\n",
      "Epoch 36/100\n",
      "1688/1688 - 2s - loss: 0.0900 - mse: 0.0900 - val_loss: 0.0900 - val_mse: 0.0900 - 2s/epoch - 1ms/step\n",
      "Epoch 37/100\n",
      "1688/1688 - 2s - loss: 0.0900 - mse: 0.0900 - val_loss: 0.0900 - val_mse: 0.0900 - 2s/epoch - 1ms/step\n",
      "Epoch 38/100\n",
      "1688/1688 - 2s - loss: 0.0900 - mse: 0.0900 - val_loss: 0.0900 - val_mse: 0.0900 - 2s/epoch - 1ms/step\n",
      "Epoch 39/100\n",
      "1688/1688 - 2s - loss: 0.0900 - mse: 0.0900 - val_loss: 0.0900 - val_mse: 0.0900 - 2s/epoch - 1ms/step\n",
      "Epoch 40/100\n",
      "1688/1688 - 2s - loss: 0.0900 - mse: 0.0900 - val_loss: 0.0900 - val_mse: 0.0900 - 2s/epoch - 1ms/step\n",
      "Epoch 41/100\n",
      "1688/1688 - 2s - loss: 0.0900 - mse: 0.0900 - val_loss: 0.0900 - val_mse: 0.0900 - 2s/epoch - 1ms/step\n",
      "Epoch 42/100\n",
      "1688/1688 - 2s - loss: 0.0900 - mse: 0.0900 - val_loss: 0.0900 - val_mse: 0.0900 - 2s/epoch - 1ms/step\n",
      "Epoch 43/100\n",
      "1688/1688 - 2s - loss: 0.0900 - mse: 0.0900 - val_loss: 0.0900 - val_mse: 0.0900 - 2s/epoch - 1ms/step\n",
      "Epoch 44/100\n",
      "1688/1688 - 2s - loss: 0.0900 - mse: 0.0900 - val_loss: 0.0900 - val_mse: 0.0900 - 2s/epoch - 1ms/step\n",
      "Epoch 45/100\n",
      "1688/1688 - 2s - loss: 0.0900 - mse: 0.0900 - val_loss: 0.0900 - val_mse: 0.0900 - 2s/epoch - 1ms/step\n",
      "Epoch 46/100\n",
      "1688/1688 - 2s - loss: 0.0900 - mse: 0.0900 - val_loss: 0.0900 - val_mse: 0.0900 - 2s/epoch - 1ms/step\n",
      "Epoch 47/100\n",
      "1688/1688 - 2s - loss: 0.0900 - mse: 0.0900 - val_loss: 0.0900 - val_mse: 0.0900 - 2s/epoch - 1ms/step\n",
      "Epoch 48/100\n",
      "1688/1688 - 2s - loss: 0.0900 - mse: 0.0900 - val_loss: 0.0900 - val_mse: 0.0900 - 2s/epoch - 1ms/step\n",
      "Epoch 49/100\n",
      "1688/1688 - 2s - loss: 0.0900 - mse: 0.0900 - val_loss: 0.0900 - val_mse: 0.0900 - 2s/epoch - 1ms/step\n",
      "Epoch 50/100\n",
      "1688/1688 - 2s - loss: 0.0900 - mse: 0.0900 - val_loss: 0.0900 - val_mse: 0.0900 - 2s/epoch - 1ms/step\n",
      "Epoch 51/100\n",
      "1688/1688 - 3s - loss: 0.0900 - mse: 0.0900 - val_loss: 0.0900 - val_mse: 0.0900 - 3s/epoch - 1ms/step\n",
      "Epoch 52/100\n",
      "1688/1688 - 2s - loss: 0.0900 - mse: 0.0900 - val_loss: 0.0900 - val_mse: 0.0900 - 2s/epoch - 1ms/step\n",
      "Epoch 53/100\n",
      "1688/1688 - 2s - loss: 0.0900 - mse: 0.0900 - val_loss: 0.0900 - val_mse: 0.0900 - 2s/epoch - 1ms/step\n",
      "Epoch 54/100\n",
      "1688/1688 - 2s - loss: 0.0900 - mse: 0.0900 - val_loss: 0.0900 - val_mse: 0.0900 - 2s/epoch - 1ms/step\n",
      "Epoch 55/100\n",
      "1688/1688 - 2s - loss: 0.0900 - mse: 0.0900 - val_loss: 0.0900 - val_mse: 0.0900 - 2s/epoch - 1ms/step\n",
      "Epoch 56/100\n",
      "1688/1688 - 2s - loss: 0.0900 - mse: 0.0900 - val_loss: 0.0900 - val_mse: 0.0900 - 2s/epoch - 1ms/step\n",
      "Epoch 57/100\n",
      "1688/1688 - 2s - loss: 0.0900 - mse: 0.0900 - val_loss: 0.0900 - val_mse: 0.0900 - 2s/epoch - 1ms/step\n",
      "Epoch 58/100\n",
      "1688/1688 - 2s - loss: 0.0900 - mse: 0.0900 - val_loss: 0.0900 - val_mse: 0.0900 - 2s/epoch - 1ms/step\n",
      "Epoch 59/100\n",
      "1688/1688 - 2s - loss: 0.0900 - mse: 0.0900 - val_loss: 0.0900 - val_mse: 0.0900 - 2s/epoch - 1ms/step\n",
      "Epoch 60/100\n",
      "1688/1688 - 2s - loss: 0.0900 - mse: 0.0900 - val_loss: 0.0900 - val_mse: 0.0900 - 2s/epoch - 1ms/step\n",
      "Epoch 61/100\n",
      "1688/1688 - 2s - loss: 0.0900 - mse: 0.0900 - val_loss: 0.0900 - val_mse: 0.0900 - 2s/epoch - 1ms/step\n",
      "Epoch 62/100\n",
      "1688/1688 - 2s - loss: 0.0900 - mse: 0.0900 - val_loss: 0.0900 - val_mse: 0.0900 - 2s/epoch - 1ms/step\n",
      "Epoch 63/100\n",
      "1688/1688 - 2s - loss: 0.0900 - mse: 0.0900 - val_loss: 0.0900 - val_mse: 0.0900 - 2s/epoch - 1ms/step\n",
      "Epoch 64/100\n",
      "1688/1688 - 2s - loss: 0.0900 - mse: 0.0900 - val_loss: 0.0900 - val_mse: 0.0900 - 2s/epoch - 1ms/step\n",
      "Epoch 65/100\n",
      "1688/1688 - 2s - loss: 0.0900 - mse: 0.0900 - val_loss: 0.0900 - val_mse: 0.0900 - 2s/epoch - 1ms/step\n",
      "Epoch 66/100\n",
      "1688/1688 - 2s - loss: 0.0900 - mse: 0.0900 - val_loss: 0.0900 - val_mse: 0.0900 - 2s/epoch - 1ms/step\n",
      "Epoch 67/100\n",
      "1688/1688 - 2s - loss: 0.0900 - mse: 0.0900 - val_loss: 0.0900 - val_mse: 0.0900 - 2s/epoch - 1ms/step\n",
      "Epoch 68/100\n",
      "1688/1688 - 2s - loss: 0.0900 - mse: 0.0900 - val_loss: 0.0900 - val_mse: 0.0900 - 2s/epoch - 1ms/step\n",
      "Epoch 69/100\n",
      "1688/1688 - 2s - loss: 0.0900 - mse: 0.0900 - val_loss: 0.0900 - val_mse: 0.0900 - 2s/epoch - 1ms/step\n",
      "Epoch 70/100\n",
      "1688/1688 - 2s - loss: 0.0900 - mse: 0.0900 - val_loss: 0.0900 - val_mse: 0.0900 - 2s/epoch - 1ms/step\n",
      "Epoch 71/100\n",
      "1688/1688 - 2s - loss: 0.0900 - mse: 0.0900 - val_loss: 0.0900 - val_mse: 0.0900 - 2s/epoch - 1ms/step\n",
      "Epoch 72/100\n",
      "1688/1688 - 2s - loss: 0.0900 - mse: 0.0900 - val_loss: 0.0900 - val_mse: 0.0900 - 2s/epoch - 1ms/step\n",
      "Epoch 73/100\n",
      "1688/1688 - 2s - loss: 0.0900 - mse: 0.0900 - val_loss: 0.0900 - val_mse: 0.0900 - 2s/epoch - 1ms/step\n",
      "Epoch 74/100\n",
      "1688/1688 - 2s - loss: 0.0900 - mse: 0.0900 - val_loss: 0.0900 - val_mse: 0.0900 - 2s/epoch - 1ms/step\n",
      "Epoch 75/100\n",
      "1688/1688 - 2s - loss: 0.0900 - mse: 0.0900 - val_loss: 0.0900 - val_mse: 0.0900 - 2s/epoch - 1ms/step\n",
      "Epoch 76/100\n",
      "1688/1688 - 2s - loss: 0.0900 - mse: 0.0900 - val_loss: 0.0900 - val_mse: 0.0900 - 2s/epoch - 1ms/step\n",
      "Epoch 77/100\n",
      "1688/1688 - 2s - loss: 0.0900 - mse: 0.0900 - val_loss: 0.0900 - val_mse: 0.0900 - 2s/epoch - 1ms/step\n",
      "Epoch 78/100\n",
      "1688/1688 - 2s - loss: 0.0900 - mse: 0.0900 - val_loss: 0.0900 - val_mse: 0.0900 - 2s/epoch - 1ms/step\n",
      "Epoch 79/100\n",
      "1688/1688 - 2s - loss: 0.0900 - mse: 0.0900 - val_loss: 0.0900 - val_mse: 0.0900 - 2s/epoch - 1ms/step\n",
      "Epoch 80/100\n",
      "1688/1688 - 2s - loss: 0.0900 - mse: 0.0900 - val_loss: 0.0900 - val_mse: 0.0900 - 2s/epoch - 1ms/step\n",
      "Epoch 81/100\n",
      "1688/1688 - 2s - loss: 0.0900 - mse: 0.0900 - val_loss: 0.0900 - val_mse: 0.0900 - 2s/epoch - 1ms/step\n",
      "Epoch 82/100\n",
      "1688/1688 - 3s - loss: 0.0900 - mse: 0.0900 - val_loss: 0.0900 - val_mse: 0.0900 - 3s/epoch - 2ms/step\n",
      "Epoch 83/100\n",
      "1688/1688 - 3s - loss: 0.0900 - mse: 0.0900 - val_loss: 0.0900 - val_mse: 0.0900 - 3s/epoch - 2ms/step\n",
      "Epoch 84/100\n",
      "1688/1688 - 2s - loss: 0.0900 - mse: 0.0900 - val_loss: 0.0900 - val_mse: 0.0900 - 2s/epoch - 1ms/step\n",
      "Epoch 85/100\n",
      "1688/1688 - 3s - loss: 0.0900 - mse: 0.0900 - val_loss: 0.0900 - val_mse: 0.0900 - 3s/epoch - 2ms/step\n",
      "Epoch 86/100\n",
      "1688/1688 - 2s - loss: 0.0900 - mse: 0.0900 - val_loss: 0.0900 - val_mse: 0.0900 - 2s/epoch - 1ms/step\n",
      "Epoch 87/100\n",
      "1688/1688 - 3s - loss: 0.0900 - mse: 0.0900 - val_loss: 0.0900 - val_mse: 0.0900 - 3s/epoch - 2ms/step\n",
      "Epoch 88/100\n",
      "1688/1688 - 2s - loss: 0.0900 - mse: 0.0900 - val_loss: 0.0900 - val_mse: 0.0900 - 2s/epoch - 1ms/step\n",
      "Epoch 89/100\n",
      "1688/1688 - 3s - loss: 0.0900 - mse: 0.0900 - val_loss: 0.0900 - val_mse: 0.0900 - 3s/epoch - 1ms/step\n",
      "Epoch 90/100\n",
      "1688/1688 - 2s - loss: 0.0900 - mse: 0.0900 - val_loss: 0.0900 - val_mse: 0.0900 - 2s/epoch - 1ms/step\n",
      "Epoch 91/100\n",
      "1688/1688 - 2s - loss: 0.0900 - mse: 0.0900 - val_loss: 0.0900 - val_mse: 0.0900 - 2s/epoch - 1ms/step\n",
      "Epoch 92/100\n",
      "1688/1688 - 2s - loss: 0.0900 - mse: 0.0900 - val_loss: 0.0900 - val_mse: 0.0900 - 2s/epoch - 1ms/step\n",
      "Epoch 93/100\n",
      "1688/1688 - 2s - loss: 0.0900 - mse: 0.0900 - val_loss: 0.0900 - val_mse: 0.0900 - 2s/epoch - 1ms/step\n",
      "Epoch 94/100\n",
      "1688/1688 - 2s - loss: 0.0900 - mse: 0.0900 - val_loss: 0.0900 - val_mse: 0.0900 - 2s/epoch - 1ms/step\n",
      "Epoch 95/100\n",
      "1688/1688 - 2s - loss: 0.0900 - mse: 0.0900 - val_loss: 0.0900 - val_mse: 0.0900 - 2s/epoch - 1ms/step\n",
      "Epoch 96/100\n",
      "1688/1688 - 2s - loss: 0.0900 - mse: 0.0900 - val_loss: 0.0900 - val_mse: 0.0900 - 2s/epoch - 1ms/step\n",
      "Epoch 97/100\n",
      "1688/1688 - 2s - loss: 0.0900 - mse: 0.0900 - val_loss: 0.0900 - val_mse: 0.0900 - 2s/epoch - 1ms/step\n",
      "Epoch 98/100\n",
      "1688/1688 - 2s - loss: 0.0900 - mse: 0.0900 - val_loss: 0.0900 - val_mse: 0.0900 - 2s/epoch - 1ms/step\n",
      "Epoch 99/100\n",
      "1688/1688 - 2s - loss: 0.0900 - mse: 0.0900 - val_loss: 0.0900 - val_mse: 0.0900 - 2s/epoch - 1ms/step\n",
      "Epoch 100/100\n",
      "1688/1688 - 2s - loss: 0.0900 - mse: 0.0900 - val_loss: 0.0900 - val_mse: 0.0900 - 2s/epoch - 1ms/step\n",
      "Epoch 1/100\n",
      "1688/1688 - 2s - loss: 0.1000 - mse: 0.1000 - val_loss: 0.1000 - val_mse: 0.1000 - 2s/epoch - 1ms/step\n",
      "Epoch 2/100\n",
      "1688/1688 - 2s - loss: 0.1000 - mse: 0.1000 - val_loss: 0.1000 - val_mse: 0.1000 - 2s/epoch - 1ms/step\n",
      "Epoch 3/100\n",
      "1688/1688 - 2s - loss: 0.1000 - mse: 0.1000 - val_loss: 0.1000 - val_mse: 0.1000 - 2s/epoch - 1ms/step\n",
      "Epoch 4/100\n",
      "1688/1688 - 2s - loss: 0.1000 - mse: 0.1000 - val_loss: 0.1000 - val_mse: 0.1000 - 2s/epoch - 1ms/step\n",
      "Epoch 5/100\n",
      "1688/1688 - 2s - loss: 0.1000 - mse: 0.1000 - val_loss: 0.1000 - val_mse: 0.1000 - 2s/epoch - 1ms/step\n",
      "Epoch 6/100\n",
      "1688/1688 - 2s - loss: 0.1000 - mse: 0.1000 - val_loss: 0.1000 - val_mse: 0.1000 - 2s/epoch - 1ms/step\n",
      "Epoch 7/100\n",
      "1688/1688 - 2s - loss: 0.1000 - mse: 0.1000 - val_loss: 0.1000 - val_mse: 0.1000 - 2s/epoch - 1ms/step\n",
      "Epoch 8/100\n",
      "1688/1688 - 2s - loss: 0.1000 - mse: 0.1000 - val_loss: 0.1000 - val_mse: 0.1000 - 2s/epoch - 1ms/step\n",
      "Epoch 9/100\n",
      "1688/1688 - 2s - loss: 0.1000 - mse: 0.1000 - val_loss: 0.1000 - val_mse: 0.1000 - 2s/epoch - 1ms/step\n",
      "Epoch 10/100\n",
      "1688/1688 - 2s - loss: 0.1000 - mse: 0.1000 - val_loss: 0.1000 - val_mse: 0.1000 - 2s/epoch - 1ms/step\n",
      "Epoch 11/100\n",
      "1688/1688 - 2s - loss: 0.1000 - mse: 0.1000 - val_loss: 0.1000 - val_mse: 0.1000 - 2s/epoch - 1ms/step\n",
      "Epoch 12/100\n",
      "1688/1688 - 2s - loss: 0.1000 - mse: 0.1000 - val_loss: 0.1000 - val_mse: 0.1000 - 2s/epoch - 1ms/step\n",
      "Epoch 13/100\n",
      "1688/1688 - 2s - loss: 0.1000 - mse: 0.1000 - val_loss: 0.1000 - val_mse: 0.1000 - 2s/epoch - 1ms/step\n",
      "Epoch 14/100\n",
      "1688/1688 - 2s - loss: 0.1000 - mse: 0.1000 - val_loss: 0.1000 - val_mse: 0.1000 - 2s/epoch - 1ms/step\n",
      "Epoch 15/100\n",
      "1688/1688 - 2s - loss: 0.1000 - mse: 0.1000 - val_loss: 0.1000 - val_mse: 0.1000 - 2s/epoch - 1ms/step\n",
      "Epoch 16/100\n",
      "1688/1688 - 2s - loss: 0.1000 - mse: 0.1000 - val_loss: 0.1000 - val_mse: 0.1000 - 2s/epoch - 1ms/step\n",
      "Epoch 17/100\n",
      "1688/1688 - 2s - loss: 0.1000 - mse: 0.1000 - val_loss: 0.1000 - val_mse: 0.1000 - 2s/epoch - 1ms/step\n",
      "Epoch 18/100\n",
      "1688/1688 - 2s - loss: 0.1000 - mse: 0.1000 - val_loss: 0.1000 - val_mse: 0.1000 - 2s/epoch - 1ms/step\n",
      "Epoch 19/100\n",
      "1688/1688 - 2s - loss: 0.1000 - mse: 0.1000 - val_loss: 0.1000 - val_mse: 0.1000 - 2s/epoch - 1ms/step\n",
      "Epoch 20/100\n",
      "1688/1688 - 2s - loss: 0.1000 - mse: 0.1000 - val_loss: 0.1000 - val_mse: 0.1000 - 2s/epoch - 1ms/step\n",
      "Epoch 21/100\n",
      "1688/1688 - 2s - loss: 0.1000 - mse: 0.1000 - val_loss: 0.1000 - val_mse: 0.1000 - 2s/epoch - 1ms/step\n",
      "Epoch 22/100\n",
      "1688/1688 - 2s - loss: 0.1000 - mse: 0.1000 - val_loss: 0.1000 - val_mse: 0.1000 - 2s/epoch - 1ms/step\n",
      "Epoch 23/100\n",
      "1688/1688 - 2s - loss: 0.1000 - mse: 0.1000 - val_loss: 0.1000 - val_mse: 0.1000 - 2s/epoch - 1ms/step\n",
      "Epoch 24/100\n",
      "1688/1688 - 2s - loss: 0.1000 - mse: 0.1000 - val_loss: 0.1000 - val_mse: 0.1000 - 2s/epoch - 1ms/step\n",
      "Epoch 25/100\n",
      "1688/1688 - 2s - loss: 0.1000 - mse: 0.1000 - val_loss: 0.1000 - val_mse: 0.1000 - 2s/epoch - 1ms/step\n",
      "Epoch 26/100\n",
      "1688/1688 - 2s - loss: 0.1000 - mse: 0.1000 - val_loss: 0.1000 - val_mse: 0.1000 - 2s/epoch - 1ms/step\n",
      "Epoch 27/100\n",
      "1688/1688 - 2s - loss: 0.1000 - mse: 0.1000 - val_loss: 0.1000 - val_mse: 0.1000 - 2s/epoch - 1ms/step\n",
      "Epoch 28/100\n",
      "1688/1688 - 2s - loss: 0.1000 - mse: 0.1000 - val_loss: 0.1000 - val_mse: 0.1000 - 2s/epoch - 1ms/step\n",
      "Epoch 29/100\n",
      "1688/1688 - 2s - loss: 0.1000 - mse: 0.1000 - val_loss: 0.1000 - val_mse: 0.1000 - 2s/epoch - 1ms/step\n",
      "Epoch 30/100\n",
      "1688/1688 - 2s - loss: 0.1000 - mse: 0.1000 - val_loss: 0.1000 - val_mse: 0.1000 - 2s/epoch - 1ms/step\n",
      "Epoch 31/100\n",
      "1688/1688 - 2s - loss: 0.1000 - mse: 0.1000 - val_loss: 0.1000 - val_mse: 0.1000 - 2s/epoch - 1ms/step\n",
      "Epoch 32/100\n",
      "1688/1688 - 2s - loss: 0.1000 - mse: 0.1000 - val_loss: 0.1000 - val_mse: 0.1000 - 2s/epoch - 1ms/step\n",
      "Epoch 33/100\n",
      "1688/1688 - 2s - loss: 0.1000 - mse: 0.1000 - val_loss: 0.1000 - val_mse: 0.1000 - 2s/epoch - 1ms/step\n",
      "Epoch 34/100\n",
      "1688/1688 - 2s - loss: 0.1000 - mse: 0.1000 - val_loss: 0.1000 - val_mse: 0.1000 - 2s/epoch - 1ms/step\n",
      "Epoch 35/100\n",
      "1688/1688 - 2s - loss: 0.1000 - mse: 0.1000 - val_loss: 0.1000 - val_mse: 0.1000 - 2s/epoch - 1ms/step\n",
      "Epoch 36/100\n",
      "1688/1688 - 2s - loss: 0.1000 - mse: 0.1000 - val_loss: 0.1000 - val_mse: 0.1000 - 2s/epoch - 1ms/step\n",
      "Epoch 37/100\n",
      "1688/1688 - 2s - loss: 0.1000 - mse: 0.1000 - val_loss: 0.1000 - val_mse: 0.1000 - 2s/epoch - 1ms/step\n",
      "Epoch 38/100\n",
      "1688/1688 - 2s - loss: 0.1000 - mse: 0.1000 - val_loss: 0.1000 - val_mse: 0.1000 - 2s/epoch - 1ms/step\n",
      "Epoch 39/100\n",
      "1688/1688 - 2s - loss: 0.1000 - mse: 0.1000 - val_loss: 0.1000 - val_mse: 0.1000 - 2s/epoch - 1ms/step\n",
      "Epoch 40/100\n",
      "1688/1688 - 2s - loss: 0.1000 - mse: 0.1000 - val_loss: 0.1000 - val_mse: 0.1000 - 2s/epoch - 1ms/step\n",
      "Epoch 41/100\n",
      "1688/1688 - 2s - loss: 0.1000 - mse: 0.1000 - val_loss: 0.1000 - val_mse: 0.1000 - 2s/epoch - 1ms/step\n",
      "Epoch 42/100\n",
      "1688/1688 - 2s - loss: 0.1000 - mse: 0.1000 - val_loss: 0.1000 - val_mse: 0.1000 - 2s/epoch - 1ms/step\n",
      "Epoch 43/100\n",
      "1688/1688 - 2s - loss: 0.1000 - mse: 0.1000 - val_loss: 0.1000 - val_mse: 0.1000 - 2s/epoch - 1ms/step\n",
      "Epoch 44/100\n",
      "1688/1688 - 2s - loss: 0.1000 - mse: 0.1000 - val_loss: 0.1000 - val_mse: 0.1000 - 2s/epoch - 1ms/step\n",
      "Epoch 45/100\n",
      "1688/1688 - 2s - loss: 0.1000 - mse: 0.1000 - val_loss: 0.1000 - val_mse: 0.1000 - 2s/epoch - 1ms/step\n",
      "Epoch 46/100\n",
      "1688/1688 - 2s - loss: 0.1000 - mse: 0.1000 - val_loss: 0.1000 - val_mse: 0.1000 - 2s/epoch - 1ms/step\n",
      "Epoch 47/100\n",
      "1688/1688 - 2s - loss: 0.1000 - mse: 0.1000 - val_loss: 0.1000 - val_mse: 0.1000 - 2s/epoch - 1ms/step\n",
      "Epoch 48/100\n",
      "1688/1688 - 2s - loss: 0.1000 - mse: 0.1000 - val_loss: 0.1000 - val_mse: 0.1000 - 2s/epoch - 1ms/step\n",
      "Epoch 49/100\n",
      "1688/1688 - 2s - loss: 0.1000 - mse: 0.1000 - val_loss: 0.1000 - val_mse: 0.1000 - 2s/epoch - 1ms/step\n",
      "Epoch 50/100\n",
      "1688/1688 - 2s - loss: 0.1000 - mse: 0.1000 - val_loss: 0.1000 - val_mse: 0.1000 - 2s/epoch - 1ms/step\n",
      "Epoch 51/100\n",
      "1688/1688 - 2s - loss: 0.1000 - mse: 0.1000 - val_loss: 0.1000 - val_mse: 0.1000 - 2s/epoch - 1ms/step\n",
      "Epoch 52/100\n",
      "1688/1688 - 2s - loss: 0.1000 - mse: 0.1000 - val_loss: 0.1000 - val_mse: 0.1000 - 2s/epoch - 1ms/step\n",
      "Epoch 53/100\n",
      "1688/1688 - 2s - loss: 0.1000 - mse: 0.1000 - val_loss: 0.1000 - val_mse: 0.1000 - 2s/epoch - 1ms/step\n",
      "Epoch 54/100\n",
      "1688/1688 - 2s - loss: 0.1000 - mse: 0.1000 - val_loss: 0.1000 - val_mse: 0.1000 - 2s/epoch - 1ms/step\n",
      "Epoch 55/100\n",
      "1688/1688 - 2s - loss: 0.1000 - mse: 0.1000 - val_loss: 0.1000 - val_mse: 0.1000 - 2s/epoch - 1ms/step\n",
      "Epoch 56/100\n",
      "1688/1688 - 2s - loss: 0.1000 - mse: 0.1000 - val_loss: 0.1000 - val_mse: 0.1000 - 2s/epoch - 1ms/step\n",
      "Epoch 57/100\n",
      "1688/1688 - 2s - loss: 0.1000 - mse: 0.1000 - val_loss: 0.1000 - val_mse: 0.1000 - 2s/epoch - 1ms/step\n",
      "Epoch 58/100\n",
      "1688/1688 - 2s - loss: 0.1000 - mse: 0.1000 - val_loss: 0.1000 - val_mse: 0.1000 - 2s/epoch - 1ms/step\n",
      "Epoch 59/100\n",
      "1688/1688 - 2s - loss: 0.1000 - mse: 0.1000 - val_loss: 0.1000 - val_mse: 0.1000 - 2s/epoch - 1ms/step\n",
      "Epoch 60/100\n",
      "1688/1688 - 2s - loss: 0.1000 - mse: 0.1000 - val_loss: 0.1000 - val_mse: 0.1000 - 2s/epoch - 1ms/step\n",
      "Epoch 61/100\n",
      "1688/1688 - 2s - loss: 0.1000 - mse: 0.1000 - val_loss: 0.1000 - val_mse: 0.1000 - 2s/epoch - 1ms/step\n",
      "Epoch 62/100\n",
      "1688/1688 - 2s - loss: 0.1000 - mse: 0.1000 - val_loss: 0.1000 - val_mse: 0.1000 - 2s/epoch - 1ms/step\n",
      "Epoch 63/100\n",
      "1688/1688 - 2s - loss: 0.1000 - mse: 0.1000 - val_loss: 0.1000 - val_mse: 0.1000 - 2s/epoch - 1ms/step\n",
      "Epoch 64/100\n",
      "1688/1688 - 2s - loss: 0.1000 - mse: 0.1000 - val_loss: 0.1000 - val_mse: 0.1000 - 2s/epoch - 1ms/step\n",
      "Epoch 65/100\n",
      "1688/1688 - 2s - loss: 0.1000 - mse: 0.1000 - val_loss: 0.1000 - val_mse: 0.1000 - 2s/epoch - 1ms/step\n",
      "Epoch 66/100\n",
      "1688/1688 - 2s - loss: 0.1000 - mse: 0.1000 - val_loss: 0.1000 - val_mse: 0.1000 - 2s/epoch - 1ms/step\n",
      "Epoch 67/100\n",
      "1688/1688 - 2s - loss: 0.1000 - mse: 0.1000 - val_loss: 0.1000 - val_mse: 0.1000 - 2s/epoch - 1ms/step\n",
      "Epoch 68/100\n",
      "1688/1688 - 2s - loss: 0.1000 - mse: 0.1000 - val_loss: 0.1000 - val_mse: 0.1000 - 2s/epoch - 1ms/step\n",
      "Epoch 69/100\n",
      "1688/1688 - 2s - loss: 0.1000 - mse: 0.1000 - val_loss: 0.1000 - val_mse: 0.1000 - 2s/epoch - 1ms/step\n",
      "Epoch 70/100\n",
      "1688/1688 - 2s - loss: 0.1000 - mse: 0.1000 - val_loss: 0.1000 - val_mse: 0.1000 - 2s/epoch - 1ms/step\n",
      "Epoch 71/100\n",
      "1688/1688 - 2s - loss: 0.1000 - mse: 0.1000 - val_loss: 0.1000 - val_mse: 0.1000 - 2s/epoch - 1ms/step\n",
      "Epoch 72/100\n",
      "1688/1688 - 2s - loss: 0.1000 - mse: 0.1000 - val_loss: 0.1000 - val_mse: 0.1000 - 2s/epoch - 1ms/step\n",
      "Epoch 73/100\n",
      "1688/1688 - 2s - loss: 0.1000 - mse: 0.1000 - val_loss: 0.1000 - val_mse: 0.1000 - 2s/epoch - 1ms/step\n",
      "Epoch 74/100\n",
      "1688/1688 - 2s - loss: 0.1000 - mse: 0.1000 - val_loss: 0.1000 - val_mse: 0.1000 - 2s/epoch - 1ms/step\n",
      "Epoch 75/100\n",
      "1688/1688 - 2s - loss: 0.1000 - mse: 0.1000 - val_loss: 0.1000 - val_mse: 0.1000 - 2s/epoch - 1ms/step\n",
      "Epoch 76/100\n",
      "1688/1688 - 2s - loss: 0.1000 - mse: 0.1000 - val_loss: 0.1000 - val_mse: 0.1000 - 2s/epoch - 1ms/step\n",
      "Epoch 77/100\n",
      "1688/1688 - 2s - loss: 0.1000 - mse: 0.1000 - val_loss: 0.1000 - val_mse: 0.1000 - 2s/epoch - 1ms/step\n",
      "Epoch 78/100\n",
      "1688/1688 - 2s - loss: 0.1000 - mse: 0.1000 - val_loss: 0.1000 - val_mse: 0.1000 - 2s/epoch - 1ms/step\n",
      "Epoch 79/100\n",
      "1688/1688 - 2s - loss: 0.1000 - mse: 0.1000 - val_loss: 0.1000 - val_mse: 0.1000 - 2s/epoch - 1ms/step\n",
      "Epoch 80/100\n",
      "1688/1688 - 2s - loss: 0.1000 - mse: 0.1000 - val_loss: 0.1000 - val_mse: 0.1000 - 2s/epoch - 1ms/step\n",
      "Epoch 81/100\n",
      "1688/1688 - 2s - loss: 0.1000 - mse: 0.1000 - val_loss: 0.1000 - val_mse: 0.1000 - 2s/epoch - 1ms/step\n",
      "Epoch 82/100\n",
      "1688/1688 - 2s - loss: 0.1000 - mse: 0.1000 - val_loss: 0.1000 - val_mse: 0.1000 - 2s/epoch - 1ms/step\n",
      "Epoch 83/100\n",
      "1688/1688 - 2s - loss: 0.1000 - mse: 0.1000 - val_loss: 0.1000 - val_mse: 0.1000 - 2s/epoch - 1ms/step\n",
      "Epoch 84/100\n",
      "1688/1688 - 2s - loss: 0.1000 - mse: 0.1000 - val_loss: 0.1000 - val_mse: 0.1000 - 2s/epoch - 1ms/step\n",
      "Epoch 85/100\n",
      "1688/1688 - 2s - loss: 0.1000 - mse: 0.1000 - val_loss: 0.1000 - val_mse: 0.1000 - 2s/epoch - 1ms/step\n",
      "Epoch 86/100\n",
      "1688/1688 - 2s - loss: 0.1000 - mse: 0.1000 - val_loss: 0.1000 - val_mse: 0.1000 - 2s/epoch - 1ms/step\n",
      "Epoch 87/100\n",
      "1688/1688 - 2s - loss: 0.1000 - mse: 0.1000 - val_loss: 0.1000 - val_mse: 0.1000 - 2s/epoch - 1ms/step\n",
      "Epoch 88/100\n",
      "1688/1688 - 2s - loss: 0.1000 - mse: 0.1000 - val_loss: 0.1000 - val_mse: 0.1000 - 2s/epoch - 1ms/step\n",
      "Epoch 89/100\n",
      "1688/1688 - 2s - loss: 0.1000 - mse: 0.1000 - val_loss: 0.1000 - val_mse: 0.1000 - 2s/epoch - 1ms/step\n",
      "Epoch 90/100\n",
      "1688/1688 - 2s - loss: 0.1000 - mse: 0.1000 - val_loss: 0.1000 - val_mse: 0.1000 - 2s/epoch - 1ms/step\n",
      "Epoch 91/100\n",
      "1688/1688 - 2s - loss: 0.1000 - mse: 0.1000 - val_loss: 0.1000 - val_mse: 0.1000 - 2s/epoch - 1ms/step\n",
      "Epoch 92/100\n",
      "1688/1688 - 2s - loss: 0.1000 - mse: 0.1000 - val_loss: 0.1000 - val_mse: 0.1000 - 2s/epoch - 1ms/step\n",
      "Epoch 93/100\n",
      "1688/1688 - 2s - loss: 0.1000 - mse: 0.1000 - val_loss: 0.1000 - val_mse: 0.1000 - 2s/epoch - 1ms/step\n",
      "Epoch 94/100\n",
      "1688/1688 - 2s - loss: 0.1000 - mse: 0.1000 - val_loss: 0.1000 - val_mse: 0.1000 - 2s/epoch - 1ms/step\n",
      "Epoch 95/100\n",
      "1688/1688 - 2s - loss: 0.1000 - mse: 0.1000 - val_loss: 0.1000 - val_mse: 0.1000 - 2s/epoch - 1ms/step\n",
      "Epoch 96/100\n",
      "1688/1688 - 2s - loss: 0.1000 - mse: 0.1000 - val_loss: 0.1000 - val_mse: 0.1000 - 2s/epoch - 1ms/step\n",
      "Epoch 97/100\n",
      "1688/1688 - 2s - loss: 0.1000 - mse: 0.1000 - val_loss: 0.1000 - val_mse: 0.1000 - 2s/epoch - 1ms/step\n",
      "Epoch 98/100\n",
      "1688/1688 - 2s - loss: 0.1000 - mse: 0.1000 - val_loss: 0.1000 - val_mse: 0.1000 - 2s/epoch - 1ms/step\n",
      "Epoch 99/100\n",
      "1688/1688 - 2s - loss: 0.1000 - mse: 0.1000 - val_loss: 0.1000 - val_mse: 0.1000 - 2s/epoch - 1ms/step\n",
      "Epoch 100/100\n",
      "1688/1688 - 2s - loss: 0.1000 - mse: 0.1000 - val_loss: 0.1000 - val_mse: 0.1000 - 2s/epoch - 1ms/step\n"
     ]
    }
   ],
   "source": [
    "history = model.fit(x_train, y_train, epochs=100, validation_split=0.1, verbose = 2)"
   ],
   "metadata": {
    "collapsed": false
   }
  },
  {
   "cell_type": "code",
   "execution_count": 188,
   "outputs": [
    {
     "data": {
      "text/plain": "[<matplotlib.lines.Line2D at 0x2c58245a340>]"
     },
     "execution_count": 188,
     "metadata": {},
     "output_type": "execute_result"
    },
    {
     "data": {
      "text/plain": "<Figure size 640x480 with 1 Axes>",
      "image/png": "[encoded data removed]"
     },
     "metadata": {},
     "output_type": "display_data"
    }
   ],
   "source": [
    "plt.plot(history.history['mse'])\n",
    "plt.plot(history.history['val_mse'])"
   ],
   "metadata": {
    "collapsed": false
   }
  },
  {
   "cell_type": "code",
   "execution_count": 262,
   "outputs": [],
   "source": [],
   "metadata": {
    "collapsed": false
   }
  },
  {
   "cell_type": "code",
   "execution_count": null,
   "outputs": [],
   "source": [
    "# identifying images using CIFAR-10"
   ],
   "metadata": {
    "collapsed": false
   }
  },
  {
   "cell_type": "code",
   "execution_count": 218,
   "outputs": [],
   "source": [
    "from tensorflow.keras.datasets import  cifar10\n",
    "from tensorflow.keras.layers import Conv2D\n",
    "from tensorflow.keras.layers import MaxPooling2D"
   ],
   "metadata": {
    "collapsed": false
   }
  },
  {
   "cell_type": "code",
   "execution_count": 190,
   "outputs": [
    {
     "name": "stdout",
     "output_type": "stream",
     "text": [
      "Downloading data from https://www.cs.toronto.edu/~kriz/cifar-10-python.tar.gz\n",
      "170498071/170498071 [==============================] - 285s 2us/step\n"
     ]
    }
   ],
   "source": [
    "(x_train, y_train), (x_test, y_test) = cifar10.load_data()"
   ],
   "metadata": {
    "collapsed": false
   }
  },
  {
   "cell_type": "code",
   "execution_count": 192,
   "outputs": [],
   "source": [
    "x_train = x_train / 255"
   ],
   "metadata": {
    "collapsed": false
   }
  },
  {
   "cell_type": "code",
   "execution_count": 193,
   "outputs": [],
   "source": [
    "y_train = y_train / 255"
   ],
   "metadata": {
    "collapsed": false
   }
  },
  {
   "cell_type": "code",
   "execution_count": 194,
   "outputs": [],
   "source": [
    "y_train = utils.to_categorical(y_train,10)\n",
    "y_test = utils.to_categorical(y_test,10)"
   ],
   "metadata": {
    "collapsed": false
   }
  },
  {
   "cell_type": "code",
   "execution_count": 265,
   "outputs": [],
   "source": [
    "import tensorflow as tf\n",
    "from keras import layers\n",
    "from tensorflow.keras.layers import MaxPooling2D as MaxPooling2D\n",
    "from tensorflow.keras.layers import Dropout\n",
    "from tensorflow.keras.layers import Flatten\n",
    "\n",
    "model = Sequential()\n",
    "\n",
    "model.add(Conv2D(32, (3, 3), input_shape=(32, 32, 3), activation='relu'))\n",
    "model.add(Conv2D(32, (3, 3), activation='relu'))\n",
    "model.add(MaxPooling2D(pool_size = (2,2)))\n",
    "model.add(Dropout(0.25))"
   ],
   "metadata": {
    "collapsed": false
   }
  },
  {
   "cell_type": "code",
   "execution_count": 262,
   "outputs": [],
   "source": [
    "model.add(Conv2D(64, (3, 3), activation='relu'))\n",
    "model.add(Conv2D(64, (3, 3), activation='relu'))\n",
    "model.add(MaxPooling2D(pool_size = (3,3)))\n",
    "model.add(Dropout(0.25))"
   ],
   "metadata": {
    "collapsed": false
   }
  },
  {
   "cell_type": "code",
   "execution_count": 266,
   "outputs": [],
   "source": [
    "model.add(Flatten())\n",
    "model.add(Dense(512, activation = 'relu'))\n",
    "model.add(Dropout(0.5))\n",
    "model.add(Dense(10, activation = 'softmax'))"
   ],
   "metadata": {
    "collapsed": false
   }
  },
  {
   "cell_type": "code",
   "execution_count": 267,
   "outputs": [],
   "source": [
    "model.compile(loss = 'categorical_crossentropy',\n",
    "              optimizer = 'adam',\n",
    "              metrics = ['accuracy'])"
   ],
   "metadata": {
    "collapsed": false
   }
  },
  {
   "cell_type": "code",
   "execution_count": 274,
   "outputs": [
    {
     "name": "stdout",
     "output_type": "stream",
     "text": [
      "Epoch 1/5\n",
      "352/352 [==============================] - 64s 182ms/step - loss: 0.0000e+00 - accuracy: 1.0000 - val_loss: 0.0000e+00 - val_accuracy: 1.0000\n",
      "Epoch 2/5\n",
      "352/352 [==============================] - 62s 177ms/step - loss: 0.0000e+00 - accuracy: 1.0000 - val_loss: 0.0000e+00 - val_accuracy: 1.0000\n",
      "Epoch 3/5\n",
      "352/352 [==============================] - 64s 181ms/step - loss: 0.0000e+00 - accuracy: 1.0000 - val_loss: 0.0000e+00 - val_accuracy: 1.0000\n",
      "Epoch 4/5\n",
      "303/352 [========================>.....] - ETA: 9s - loss: 0.0000e+00 - accuracy: 1.0000"
     ]
    },
    {
     "ename": "KeyboardInterrupt",
     "evalue": "",
     "output_type": "error",
     "traceback": [
      "\u001B[1;31m---------------------------------------------------------------------------\u001B[0m",
      "\u001B[1;31mKeyboardInterrupt\u001B[0m                         Traceback (most recent call last)",
      "Cell \u001B[1;32mIn [274], line 1\u001B[0m\n\u001B[1;32m----> 1\u001B[0m history \u001B[38;5;241m=\u001B[39m \u001B[43mmodel\u001B[49m\u001B[38;5;241;43m.\u001B[39;49m\u001B[43mfit\u001B[49m\u001B[43m(\u001B[49m\u001B[43mx_train\u001B[49m\u001B[43m,\u001B[49m\u001B[43m \u001B[49m\u001B[43my_train\u001B[49m\u001B[43m,\u001B[49m\n\u001B[0;32m      2\u001B[0m \u001B[43m                    \u001B[49m\u001B[43mbatch_size\u001B[49m\u001B[43m \u001B[49m\u001B[38;5;241;43m=\u001B[39;49m\u001B[43m \u001B[49m\u001B[38;5;241;43m128\u001B[39;49m\u001B[43m,\u001B[49m\n\u001B[0;32m      3\u001B[0m \u001B[43m                    \u001B[49m\u001B[43mepochs\u001B[49m\u001B[43m \u001B[49m\u001B[38;5;241;43m=\u001B[39;49m\u001B[43m \u001B[49m\u001B[38;5;241;43m5\u001B[39;49m\u001B[43m,\u001B[49m\n\u001B[0;32m      4\u001B[0m \u001B[43m                    \u001B[49m\u001B[43mvalidation_split\u001B[49m\u001B[43m \u001B[49m\u001B[38;5;241;43m=\u001B[39;49m\u001B[43m \u001B[49m\u001B[38;5;241;43m0.1\u001B[39;49m\u001B[43m,\u001B[49m\n\u001B[0;32m      5\u001B[0m \u001B[43m                    \u001B[49m\u001B[43mverbose\u001B[49m\u001B[43m \u001B[49m\u001B[38;5;241;43m=\u001B[39;49m\u001B[43m \u001B[49m\u001B[38;5;241;43m1\u001B[39;49m\u001B[43m)\u001B[49m\n",
      "File \u001B[1;32mC:\\PyCharm_Prjs\\course_prj\\venv\\lib\\site-packages\\keras\\utils\\traceback_utils.py:65\u001B[0m, in \u001B[0;36mfilter_traceback.<locals>.error_handler\u001B[1;34m(*args, **kwargs)\u001B[0m\n\u001B[0;32m     63\u001B[0m filtered_tb \u001B[38;5;241m=\u001B[39m \u001B[38;5;28;01mNone\u001B[39;00m\n\u001B[0;32m     64\u001B[0m \u001B[38;5;28;01mtry\u001B[39;00m:\n\u001B[1;32m---> 65\u001B[0m     \u001B[38;5;28;01mreturn\u001B[39;00m fn(\u001B[38;5;241m*\u001B[39margs, \u001B[38;5;241m*\u001B[39m\u001B[38;5;241m*\u001B[39mkwargs)\n\u001B[0;32m     66\u001B[0m \u001B[38;5;28;01mexcept\u001B[39;00m \u001B[38;5;167;01mException\u001B[39;00m \u001B[38;5;28;01mas\u001B[39;00m e:\n\u001B[0;32m     67\u001B[0m     filtered_tb \u001B[38;5;241m=\u001B[39m _process_traceback_frames(e\u001B[38;5;241m.\u001B[39m__traceback__)\n",
      "File \u001B[1;32mC:\\PyCharm_Prjs\\course_prj\\venv\\lib\\site-packages\\keras\\engine\\training.py:1564\u001B[0m, in \u001B[0;36mModel.fit\u001B[1;34m(self, x, y, batch_size, epochs, verbose, callbacks, validation_split, validation_data, shuffle, class_weight, sample_weight, initial_epoch, steps_per_epoch, validation_steps, validation_batch_size, validation_freq, max_queue_size, workers, use_multiprocessing)\u001B[0m\n\u001B[0;32m   1556\u001B[0m \u001B[38;5;28;01mwith\u001B[39;00m tf\u001B[38;5;241m.\u001B[39mprofiler\u001B[38;5;241m.\u001B[39mexperimental\u001B[38;5;241m.\u001B[39mTrace(\n\u001B[0;32m   1557\u001B[0m     \u001B[38;5;124m\"\u001B[39m\u001B[38;5;124mtrain\u001B[39m\u001B[38;5;124m\"\u001B[39m,\n\u001B[0;32m   1558\u001B[0m     epoch_num\u001B[38;5;241m=\u001B[39mepoch,\n\u001B[1;32m   (...)\u001B[0m\n\u001B[0;32m   1561\u001B[0m     _r\u001B[38;5;241m=\u001B[39m\u001B[38;5;241m1\u001B[39m,\n\u001B[0;32m   1562\u001B[0m ):\n\u001B[0;32m   1563\u001B[0m     callbacks\u001B[38;5;241m.\u001B[39mon_train_batch_begin(step)\n\u001B[1;32m-> 1564\u001B[0m     tmp_logs \u001B[38;5;241m=\u001B[39m \u001B[38;5;28;43mself\u001B[39;49m\u001B[38;5;241;43m.\u001B[39;49m\u001B[43mtrain_function\u001B[49m\u001B[43m(\u001B[49m\u001B[43miterator\u001B[49m\u001B[43m)\u001B[49m\n\u001B[0;32m   1565\u001B[0m     \u001B[38;5;28;01mif\u001B[39;00m data_handler\u001B[38;5;241m.\u001B[39mshould_sync:\n\u001B[0;32m   1566\u001B[0m         context\u001B[38;5;241m.\u001B[39masync_wait()\n",
      "File \u001B[1;32mC:\\PyCharm_Prjs\\course_prj\\venv\\lib\\site-packages\\tensorflow\\python\\util\\traceback_utils.py:150\u001B[0m, in \u001B[0;36mfilter_traceback.<locals>.error_handler\u001B[1;34m(*args, **kwargs)\u001B[0m\n\u001B[0;32m    148\u001B[0m filtered_tb \u001B[38;5;241m=\u001B[39m \u001B[38;5;28;01mNone\u001B[39;00m\n\u001B[0;32m    149\u001B[0m \u001B[38;5;28;01mtry\u001B[39;00m:\n\u001B[1;32m--> 150\u001B[0m   \u001B[38;5;28;01mreturn\u001B[39;00m fn(\u001B[38;5;241m*\u001B[39margs, \u001B[38;5;241m*\u001B[39m\u001B[38;5;241m*\u001B[39mkwargs)\n\u001B[0;32m    151\u001B[0m \u001B[38;5;28;01mexcept\u001B[39;00m \u001B[38;5;167;01mException\u001B[39;00m \u001B[38;5;28;01mas\u001B[39;00m e:\n\u001B[0;32m    152\u001B[0m   filtered_tb \u001B[38;5;241m=\u001B[39m _process_traceback_frames(e\u001B[38;5;241m.\u001B[39m__traceback__)\n",
      "File \u001B[1;32mC:\\PyCharm_Prjs\\course_prj\\venv\\lib\\site-packages\\tensorflow\\python\\eager\\def_function.py:915\u001B[0m, in \u001B[0;36mFunction.__call__\u001B[1;34m(self, *args, **kwds)\u001B[0m\n\u001B[0;32m    912\u001B[0m compiler \u001B[38;5;241m=\u001B[39m \u001B[38;5;124m\"\u001B[39m\u001B[38;5;124mxla\u001B[39m\u001B[38;5;124m\"\u001B[39m \u001B[38;5;28;01mif\u001B[39;00m \u001B[38;5;28mself\u001B[39m\u001B[38;5;241m.\u001B[39m_jit_compile \u001B[38;5;28;01melse\u001B[39;00m \u001B[38;5;124m\"\u001B[39m\u001B[38;5;124mnonXla\u001B[39m\u001B[38;5;124m\"\u001B[39m\n\u001B[0;32m    914\u001B[0m \u001B[38;5;28;01mwith\u001B[39;00m OptionalXlaContext(\u001B[38;5;28mself\u001B[39m\u001B[38;5;241m.\u001B[39m_jit_compile):\n\u001B[1;32m--> 915\u001B[0m   result \u001B[38;5;241m=\u001B[39m \u001B[38;5;28mself\u001B[39m\u001B[38;5;241m.\u001B[39m_call(\u001B[38;5;241m*\u001B[39margs, \u001B[38;5;241m*\u001B[39m\u001B[38;5;241m*\u001B[39mkwds)\n\u001B[0;32m    917\u001B[0m new_tracing_count \u001B[38;5;241m=\u001B[39m \u001B[38;5;28mself\u001B[39m\u001B[38;5;241m.\u001B[39mexperimental_get_tracing_count()\n\u001B[0;32m    918\u001B[0m without_tracing \u001B[38;5;241m=\u001B[39m (tracing_count \u001B[38;5;241m==\u001B[39m new_tracing_count)\n",
      "File \u001B[1;32mC:\\PyCharm_Prjs\\course_prj\\venv\\lib\\site-packages\\tensorflow\\python\\eager\\def_function.py:947\u001B[0m, in \u001B[0;36mFunction._call\u001B[1;34m(self, *args, **kwds)\u001B[0m\n\u001B[0;32m    944\u001B[0m   \u001B[38;5;28mself\u001B[39m\u001B[38;5;241m.\u001B[39m_lock\u001B[38;5;241m.\u001B[39mrelease()\n\u001B[0;32m    945\u001B[0m   \u001B[38;5;66;03m# In this case we have created variables on the first call, so we run the\u001B[39;00m\n\u001B[0;32m    946\u001B[0m   \u001B[38;5;66;03m# defunned version which is guaranteed to never create variables.\u001B[39;00m\n\u001B[1;32m--> 947\u001B[0m   \u001B[38;5;28;01mreturn\u001B[39;00m \u001B[38;5;28mself\u001B[39m\u001B[38;5;241m.\u001B[39m_stateless_fn(\u001B[38;5;241m*\u001B[39margs, \u001B[38;5;241m*\u001B[39m\u001B[38;5;241m*\u001B[39mkwds)  \u001B[38;5;66;03m# pylint: disable=not-callable\u001B[39;00m\n\u001B[0;32m    948\u001B[0m \u001B[38;5;28;01melif\u001B[39;00m \u001B[38;5;28mself\u001B[39m\u001B[38;5;241m.\u001B[39m_stateful_fn \u001B[38;5;129;01mis\u001B[39;00m \u001B[38;5;129;01mnot\u001B[39;00m \u001B[38;5;28;01mNone\u001B[39;00m:\n\u001B[0;32m    949\u001B[0m   \u001B[38;5;66;03m# Release the lock early so that multiple threads can perform the call\u001B[39;00m\n\u001B[0;32m    950\u001B[0m   \u001B[38;5;66;03m# in parallel.\u001B[39;00m\n\u001B[0;32m    951\u001B[0m   \u001B[38;5;28mself\u001B[39m\u001B[38;5;241m.\u001B[39m_lock\u001B[38;5;241m.\u001B[39mrelease()\n",
      "File \u001B[1;32mC:\\PyCharm_Prjs\\course_prj\\venv\\lib\\site-packages\\tensorflow\\python\\eager\\function.py:2496\u001B[0m, in \u001B[0;36mFunction.__call__\u001B[1;34m(self, *args, **kwargs)\u001B[0m\n\u001B[0;32m   2493\u001B[0m \u001B[38;5;28;01mwith\u001B[39;00m \u001B[38;5;28mself\u001B[39m\u001B[38;5;241m.\u001B[39m_lock:\n\u001B[0;32m   2494\u001B[0m   (graph_function,\n\u001B[0;32m   2495\u001B[0m    filtered_flat_args) \u001B[38;5;241m=\u001B[39m \u001B[38;5;28mself\u001B[39m\u001B[38;5;241m.\u001B[39m_maybe_define_function(args, kwargs)\n\u001B[1;32m-> 2496\u001B[0m \u001B[38;5;28;01mreturn\u001B[39;00m \u001B[43mgraph_function\u001B[49m\u001B[38;5;241;43m.\u001B[39;49m\u001B[43m_call_flat\u001B[49m\u001B[43m(\u001B[49m\n\u001B[0;32m   2497\u001B[0m \u001B[43m    \u001B[49m\u001B[43mfiltered_flat_args\u001B[49m\u001B[43m,\u001B[49m\u001B[43m \u001B[49m\u001B[43mcaptured_inputs\u001B[49m\u001B[38;5;241;43m=\u001B[39;49m\u001B[43mgraph_function\u001B[49m\u001B[38;5;241;43m.\u001B[39;49m\u001B[43mcaptured_inputs\u001B[49m\u001B[43m)\u001B[49m\n",
      "File \u001B[1;32mC:\\PyCharm_Prjs\\course_prj\\venv\\lib\\site-packages\\tensorflow\\python\\eager\\function.py:1862\u001B[0m, in \u001B[0;36mConcreteFunction._call_flat\u001B[1;34m(self, args, captured_inputs, cancellation_manager)\u001B[0m\n\u001B[0;32m   1858\u001B[0m possible_gradient_type \u001B[38;5;241m=\u001B[39m gradients_util\u001B[38;5;241m.\u001B[39mPossibleTapeGradientTypes(args)\n\u001B[0;32m   1859\u001B[0m \u001B[38;5;28;01mif\u001B[39;00m (possible_gradient_type \u001B[38;5;241m==\u001B[39m gradients_util\u001B[38;5;241m.\u001B[39mPOSSIBLE_GRADIENT_TYPES_NONE\n\u001B[0;32m   1860\u001B[0m     \u001B[38;5;129;01mand\u001B[39;00m executing_eagerly):\n\u001B[0;32m   1861\u001B[0m   \u001B[38;5;66;03m# No tape is watching; skip to running the function.\u001B[39;00m\n\u001B[1;32m-> 1862\u001B[0m   \u001B[38;5;28;01mreturn\u001B[39;00m \u001B[38;5;28mself\u001B[39m\u001B[38;5;241m.\u001B[39m_build_call_outputs(\u001B[38;5;28;43mself\u001B[39;49m\u001B[38;5;241;43m.\u001B[39;49m\u001B[43m_inference_function\u001B[49m\u001B[38;5;241;43m.\u001B[39;49m\u001B[43mcall\u001B[49m\u001B[43m(\u001B[49m\n\u001B[0;32m   1863\u001B[0m \u001B[43m      \u001B[49m\u001B[43mctx\u001B[49m\u001B[43m,\u001B[49m\u001B[43m \u001B[49m\u001B[43margs\u001B[49m\u001B[43m,\u001B[49m\u001B[43m \u001B[49m\u001B[43mcancellation_manager\u001B[49m\u001B[38;5;241;43m=\u001B[39;49m\u001B[43mcancellation_manager\u001B[49m\u001B[43m)\u001B[49m)\n\u001B[0;32m   1864\u001B[0m forward_backward \u001B[38;5;241m=\u001B[39m \u001B[38;5;28mself\u001B[39m\u001B[38;5;241m.\u001B[39m_select_forward_and_backward_functions(\n\u001B[0;32m   1865\u001B[0m     args,\n\u001B[0;32m   1866\u001B[0m     possible_gradient_type,\n\u001B[0;32m   1867\u001B[0m     executing_eagerly)\n\u001B[0;32m   1868\u001B[0m forward_function, args_with_tangents \u001B[38;5;241m=\u001B[39m forward_backward\u001B[38;5;241m.\u001B[39mforward()\n",
      "File \u001B[1;32mC:\\PyCharm_Prjs\\course_prj\\venv\\lib\\site-packages\\tensorflow\\python\\eager\\function.py:499\u001B[0m, in \u001B[0;36m_EagerDefinedFunction.call\u001B[1;34m(self, ctx, args, cancellation_manager)\u001B[0m\n\u001B[0;32m    497\u001B[0m \u001B[38;5;28;01mwith\u001B[39;00m _InterpolateFunctionError(\u001B[38;5;28mself\u001B[39m):\n\u001B[0;32m    498\u001B[0m   \u001B[38;5;28;01mif\u001B[39;00m cancellation_manager \u001B[38;5;129;01mis\u001B[39;00m \u001B[38;5;28;01mNone\u001B[39;00m:\n\u001B[1;32m--> 499\u001B[0m     outputs \u001B[38;5;241m=\u001B[39m \u001B[43mexecute\u001B[49m\u001B[38;5;241;43m.\u001B[39;49m\u001B[43mexecute\u001B[49m\u001B[43m(\u001B[49m\n\u001B[0;32m    500\u001B[0m \u001B[43m        \u001B[49m\u001B[38;5;28;43mstr\u001B[39;49m\u001B[43m(\u001B[49m\u001B[38;5;28;43mself\u001B[39;49m\u001B[38;5;241;43m.\u001B[39;49m\u001B[43msignature\u001B[49m\u001B[38;5;241;43m.\u001B[39;49m\u001B[43mname\u001B[49m\u001B[43m)\u001B[49m\u001B[43m,\u001B[49m\n\u001B[0;32m    501\u001B[0m \u001B[43m        \u001B[49m\u001B[43mnum_outputs\u001B[49m\u001B[38;5;241;43m=\u001B[39;49m\u001B[38;5;28;43mself\u001B[39;49m\u001B[38;5;241;43m.\u001B[39;49m\u001B[43m_num_outputs\u001B[49m\u001B[43m,\u001B[49m\n\u001B[0;32m    502\u001B[0m \u001B[43m        \u001B[49m\u001B[43minputs\u001B[49m\u001B[38;5;241;43m=\u001B[39;49m\u001B[43margs\u001B[49m\u001B[43m,\u001B[49m\n\u001B[0;32m    503\u001B[0m \u001B[43m        \u001B[49m\u001B[43mattrs\u001B[49m\u001B[38;5;241;43m=\u001B[39;49m\u001B[43mattrs\u001B[49m\u001B[43m,\u001B[49m\n\u001B[0;32m    504\u001B[0m \u001B[43m        \u001B[49m\u001B[43mctx\u001B[49m\u001B[38;5;241;43m=\u001B[39;49m\u001B[43mctx\u001B[49m\u001B[43m)\u001B[49m\n\u001B[0;32m    505\u001B[0m   \u001B[38;5;28;01melse\u001B[39;00m:\n\u001B[0;32m    506\u001B[0m     outputs \u001B[38;5;241m=\u001B[39m execute\u001B[38;5;241m.\u001B[39mexecute_with_cancellation(\n\u001B[0;32m    507\u001B[0m         \u001B[38;5;28mstr\u001B[39m(\u001B[38;5;28mself\u001B[39m\u001B[38;5;241m.\u001B[39msignature\u001B[38;5;241m.\u001B[39mname),\n\u001B[0;32m    508\u001B[0m         num_outputs\u001B[38;5;241m=\u001B[39m\u001B[38;5;28mself\u001B[39m\u001B[38;5;241m.\u001B[39m_num_outputs,\n\u001B[1;32m   (...)\u001B[0m\n\u001B[0;32m    511\u001B[0m         ctx\u001B[38;5;241m=\u001B[39mctx,\n\u001B[0;32m    512\u001B[0m         cancellation_manager\u001B[38;5;241m=\u001B[39mcancellation_manager)\n",
      "File \u001B[1;32mC:\\PyCharm_Prjs\\course_prj\\venv\\lib\\site-packages\\tensorflow\\python\\eager\\execute.py:54\u001B[0m, in \u001B[0;36mquick_execute\u001B[1;34m(op_name, num_outputs, inputs, attrs, ctx, name)\u001B[0m\n\u001B[0;32m     52\u001B[0m \u001B[38;5;28;01mtry\u001B[39;00m:\n\u001B[0;32m     53\u001B[0m   ctx\u001B[38;5;241m.\u001B[39mensure_initialized()\n\u001B[1;32m---> 54\u001B[0m   tensors \u001B[38;5;241m=\u001B[39m \u001B[43mpywrap_tfe\u001B[49m\u001B[38;5;241;43m.\u001B[39;49m\u001B[43mTFE_Py_Execute\u001B[49m\u001B[43m(\u001B[49m\u001B[43mctx\u001B[49m\u001B[38;5;241;43m.\u001B[39;49m\u001B[43m_handle\u001B[49m\u001B[43m,\u001B[49m\u001B[43m \u001B[49m\u001B[43mdevice_name\u001B[49m\u001B[43m,\u001B[49m\u001B[43m \u001B[49m\u001B[43mop_name\u001B[49m\u001B[43m,\u001B[49m\n\u001B[0;32m     55\u001B[0m \u001B[43m                                      \u001B[49m\u001B[43minputs\u001B[49m\u001B[43m,\u001B[49m\u001B[43m \u001B[49m\u001B[43mattrs\u001B[49m\u001B[43m,\u001B[49m\u001B[43m \u001B[49m\u001B[43mnum_outputs\u001B[49m\u001B[43m)\u001B[49m\n\u001B[0;32m     56\u001B[0m \u001B[38;5;28;01mexcept\u001B[39;00m core\u001B[38;5;241m.\u001B[39m_NotOkStatusException \u001B[38;5;28;01mas\u001B[39;00m e:\n\u001B[0;32m     57\u001B[0m   \u001B[38;5;28;01mif\u001B[39;00m name \u001B[38;5;129;01mis\u001B[39;00m \u001B[38;5;129;01mnot\u001B[39;00m \u001B[38;5;28;01mNone\u001B[39;00m:\n",
      "\u001B[1;31mKeyboardInterrupt\u001B[0m: "
     ]
    }
   ],
   "source": [
    "history = model.fit(x_train, y_train,\n",
    "                    batch_size = 128,\n",
    "                    epochs = 25,\n",
    "                    validation_split = 0.1,\n",
    "                    verbose = 1)"
   ],
   "metadata": {
    "collapsed": false
   }
  },
  {
   "cell_type": "code",
   "execution_count": null,
   "outputs": [],
   "source": [
    "model.evaluate(x_test, y_test, verbose = 1)"
   ],
   "metadata": {
    "collapsed": false
   }
  },
  {
   "cell_type": "code",
   "execution_count": null,
   "outputs": [],
   "source": [],
   "metadata": {
    "collapsed": false
   }
  }
 ],
 "metadata": {
  "kernelspec": {
   "display_name": "Python 3",
   "language": "python",
   "name": "python3"
  },
  "language_info": {
   "codemirror_mode": {
    "name": "ipython",
    "version": 2
   },
   "file_extension": ".py",
   "mimetype": "text/x-python",
   "name": "python",
   "nbconvert_exporter": "python",
   "pygments_lexer": "ipython2",
   "version": "2.7.6"
  }
 },
 "nbformat": 4,
 "nbformat_minor": 0
}
